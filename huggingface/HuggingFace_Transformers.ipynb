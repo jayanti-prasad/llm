{
 "cells": [
  {
   "cell_type": "code",
   "execution_count": 18,
   "id": "cc67af19",
   "metadata": {},
   "outputs": [
    {
     "name": "stderr",
     "output_type": "stream",
     "text": [
      "Some layers from the model checkpoint at nlptown/bert-base-multilingual-uncased-sentiment were not used when initializing TFBertForSequenceClassification: ['dropout_37']\n",
      "- This IS expected if you are initializing TFBertForSequenceClassification from the checkpoint of a model trained on another task or with another architecture (e.g. initializing a BertForSequenceClassification model from a BertForPreTraining model).\n",
      "- This IS NOT expected if you are initializing TFBertForSequenceClassification from the checkpoint of a model that you expect to be exactly identical (initializing a BertForSequenceClassification model from a BertForSequenceClassification model).\n",
      "All the layers of TFBertForSequenceClassification were initialized from the model checkpoint at nlptown/bert-base-multilingual-uncased-sentiment.\n",
      "If your task is similar to the task the model of the checkpoint was trained on, you can already use TFBertForSequenceClassification for predictions without further training.\n",
      "The model 'TFBertForSequenceClassification' is not supported for text-generation. Supported models are ['TFBertLMHeadModel', 'TFCamembertForCausalLM', 'TFCTRLLMHeadModel', 'TFGPT2LMHeadModel', 'TFGPT2LMHeadModel', 'TFGPTJForCausalLM', 'TFOpenAIGPTLMHeadModel', 'TFOPTForCausalLM', 'TFRemBertForCausalLM', 'TFRobertaForCausalLM', 'TFRobertaPreLayerNormForCausalLM', 'TFRoFormerForCausalLM', 'TFTransfoXLLMHeadModel', 'TFXGLMForCausalLM', 'TFXLMWithLMHeadModel', 'TFXLMRobertaForCausalLM', 'TFXLNetLMHeadModel'].\n",
      "The model 'TFBertForSequenceClassification' is not supported for summarization. Supported models are ['TFBartForConditionalGeneration', 'TFBlenderbotForConditionalGeneration', 'TFBlenderbotSmallForConditionalGeneration', 'TFEncoderDecoderModel', 'TFLEDForConditionalGeneration', 'TFMarianMTModel', 'TFMBartForConditionalGeneration', 'TFMT5ForConditionalGeneration', 'TFPegasusForConditionalGeneration', 'TFT5ForConditionalGeneration'].\n"
     ]
    },
    {
     "name": "stdout",
     "output_type": "stream",
     "text": [
      "Sentiment Classification:\n",
      " [{'label': '5 stars', 'score': 0.772534966468811}]\n"
     ]
    }
   ],
   "source": [
    "import numpy as np\n",
    "import matplotlib.pyplot as plt\n",
    "import pandas as pd\n",
    "from transformers import pipeline\n",
    "from transformers import AutoTokenizer, TFAutoModelForSequenceClassification\n",
    "\n",
    "model_name = \"nlptown/bert-base-multilingual-uncased-sentiment\"\n",
    "model = TFAutoModelForSequenceClassification.from_pretrained(model_name)\n",
    "tokenizer = AutoTokenizer.from_pretrained(model_name)\n",
    "\n",
    "#from transformers import AutoTokenizer, AutoModelForCausalLM\n",
    "#tokenizer = AutoTokenizer.from_pretrained(\"Salesforce/codegen-350M-multi\")\n",
    "#model = AutoModelForCausalLM.from_pretrained(\"Salesforce/codegen-350M-multi\")\n",
    "\n",
    "\n",
    "#model='gpt2'\n",
    "\n",
    "\n",
    "task1 = pipeline(task=\"sentiment-analysis\",model=model,tokenizer=tokenizer)\n",
    "task2 = pipeline(task=\"text-generation\",model=model,tokenizer=tokenizer)\n",
    "task3 = pipeline(task=\"summarization\",model=model,tokenizer=tokenizer)\n",
    "#task = pipeline(task=\"image-classification\")\n",
    "#task = pipeline(task=\"image-segmentation\")\n",
    "#task = pipeline(task=\"object-detection\")\n",
    "#task = pipeline(task=\"audio-classification\")\n",
    "#task = pipeline(task=\"automatic-speech-recognition\")\n",
    "#task = pipeline(task=\"vqa\")\n",
    "#task = pipeline(task=\"document-question-answering\")\n",
    "#task = pipeline(task=\"image-to-text\"\n",
    "\n",
    "\n",
    "if __name__  == \"__main__\":\n",
    "   \n",
    "    text=\"\"\"\n",
    "    \n",
    "    The New York Times (the Times or NYT) is a daily newspaper based in New York City\n",
    "    with a worldwide readership reported in 2022 to comprise 740,000 paid print \n",
    "    subscribers, and 8.6 million paid digital subscribers. It also is a producer of\n",
    "    popular podcasts such as The Daily. Founded in 1851, it is published by The New York \n",
    "    Times Company. The Times has won 132 Pulitzer Prizes, the most of any newspaper,\n",
    "    and has long been regarded as a national \"newspaper of record\". For print, it\n",
    "    is ranked 18th in the world by circulation and 3rd in the United States. The newspaper \n",
    "    is headquartered at The New York Times Building near Times Square, Manhattan.\n",
    "    \n",
    "    \"\"\"\n",
    "\n",
    "\n",
    "    print (\"Sentiment Classification:\\n\", task1(\"We are very happy to show you the 🤗 Transformers library.\"))\n",
    "    #print(\"Text Compleation:\\n\",task2(\"India is one of the\"))\n",
    "    #print(\"Text summarization:\\n\",\n",
    "    #     task3(text))\n",
    "    \n",
    "\n",
    "    \n",
    "    "
   ]
  },
  {
   "cell_type": "code",
   "execution_count": null,
   "id": "5831dc43",
   "metadata": {},
   "outputs": [],
   "source": []
  }
 ],
 "metadata": {
  "kernelspec": {
   "display_name": "Python 3 (ipykernel)",
   "language": "python",
   "name": "python3"
  },
  "language_info": {
   "codemirror_mode": {
    "name": "ipython",
    "version": 3
   },
   "file_extension": ".py",
   "mimetype": "text/x-python",
   "name": "python",
   "nbconvert_exporter": "python",
   "pygments_lexer": "ipython3",
   "version": "3.9.16"
  }
 },
 "nbformat": 4,
 "nbformat_minor": 5
}
